{
 "cells": [
  {
   "cell_type": "markdown",
   "metadata": {},
   "source": [
    "# From Data to Paper: Everything you need to go from random data to a LaTeX worthy table and figure\n",
    "\n",
    "In this python lesson we'll be working within the confines of this Jupyter Notebook to download data from the NASA Exoplanet Archive, plot it in various ways and reproduce the results of this research note: http://iopscience.iop.org/article/10.3847/2515-5172/aac728\n",
    "\n",
    "If at any point you have questions or would like to see how to do something in particular please speak up or feel free to email me: laura.mayorga@cfa.harvard.edu\n",
    "\n",
    "## 1. We're going to need some stuff"
   ]
  },
  {
   "cell_type": "code",
   "execution_count": null,
   "metadata": {
    "collapsed": true
   },
   "outputs": [],
   "source": [
    "# This will grant us access to many array handling functions \n",
    "# so that we can do math and is almost always loaded\n",
    "import numpy as np\n",
    "\n",
    "# We wanna be able to plot stuff!\n",
    "# We've chosen to rename the module to save us time and make the code clear\n",
    "import matplotlib\n",
    "import matplotlib.pyplot as plt\n",
    "import matplotlib.patches as patches\n",
    "\n",
    "# We need to be able to read and write stuff!\n",
    "from astropy.table import QTable\n",
    "from astropy.io import ascii\n",
    "import pandas as pd\n",
    "\n",
    "# We'll be doing some computations and these constants are super useful\n",
    "from astropy.constants import sigma_sb, R_sun, R_earth, R_jup, \\\n",
    "                        L_sun, au, M_sun, M_jup, M_earth, G\n",
    "    \n",
    "# For a non-astro-centric unit conversion library, see https://pypi.org/project/unyt\n",
    "# There's also pint\n",
    "from astropy import units as u\n",
    "\n",
    "# Download files here: https://tinyurl.com/laura-python"
   ]
  },
  {
   "cell_type": "markdown",
   "metadata": {},
   "source": [
    "## Did you know you can call command line stuff from within python?"
   ]
  },
  {
   "cell_type": "raw",
   "metadata": {},
   "source": [
    "# These are the magic queries to get you the files you need!\n",
    "import subprocess as subp\n",
    "\n",
    "# This will download planets.csv\n",
    "command = ['wget', 'https://exoplanetarchive.ipac.caltech.edu/cgi-bin/'+\\\n",
    "            'nstedAPI/nph-nstedAPI?table=exoplanets'+\\\n",
    "            '&select=pl_hostname,pl_rade,pl_eqt'+\\\n",
    "            '&where=pl_rade>0 and pl_eqt>0'+\\\n",
    "            '&format=csv', '-O', 'planets.csv']\n",
    "neastat = subp.call(command)\n",
    "\n",
    "# This will download sullivan.txt\n",
    "command = ['wget', 'http://iopscience.iop.org/0004-637X/809/1/77/suppdata/apj516470t6_mrt.txt',\n",
    "          '-O', 'sullivan.txt']\n",
    "sullystat = subp.call(command)\n",
    "\n",
    "# This will download inflation.csv\n",
    "command = ['wget', 'https://www.dropbox.com/s/i0usuh5xtwk5pfg/jupMax.txt?dl=0',\n",
    "           '-O', 'inflation.csv']\n",
    "infstat=subp.call(command)\n",
    "\n",
    "# This checks if the commands worked!\n",
    "if neastat!=0 or sullystat!= 0 or infstat != 0:\n",
    "    print('SOMETHING BROKE ASK FOR HELP!!')\n",
    "else:\n",
    "    print('Queries worked successfully')"
   ]
  },
  {
   "cell_type": "markdown",
   "metadata": {},
   "source": [
    "The unit package feels like cheating but its fantastic!"
   ]
  },
  {
   "cell_type": "code",
   "execution_count": null,
   "metadata": {
    "collapsed": true
   },
   "outputs": [],
   "source": [
    "print(\"The Radius of the Sun:\")\n",
    "\n",
    "print(\"\\t in solar radii: \\t\\t{0:0.3f}\".format(R_sun.to(u.R_sun)))\n",
    "print(\"\\t in meters: \\t\\t\\t{0:0.3e}\".format(R_sun.to(u.m)))\n",
    "print(\"\\t in astronomical units: \\t{0:0.3f}\".format(R_sun.to(u.AU)))\n",
    "\n",
    "grav = G*M_earth/R_earth**2\n",
    "\n",
    "print(\"The Earth's gravity is: \\t\\t{0:0.3f} \\n\"\n",
    "      \"\\tor in cgs units: \\t\\t{1:0.3f} \\n\"\n",
    "      \"\\tor your favorite crazy unit: \\t{2:0.3f}\".format(\\\n",
    "                        grav, grav.cgs, grav.to(u.lightyear/u.year**2)))"
   ]
  },
  {
   "cell_type": "markdown",
   "metadata": {},
   "source": [
    "## 2. Let's get some data!\n",
    "There are multiple ways of doing this so lets try a couple and see why some might be better than others in this case."
   ]
  },
  {
   "cell_type": "code",
   "execution_count": null,
   "metadata": {
    "collapsed": true
   },
   "outputs": [],
   "source": [
    "with open('sullivan.txt', 'r') as f:\n",
    "    sullivan = ascii.read(f.readlines())\n",
    "with open('planets.csv', 'r') as f:\n",
    "    nexsci = ascii.read(f.readlines())\n",
    "    \n",
    "# Now you should open the files and look at them yourself.\n",
    "# ascii.read handles the header of sullivan.txt, and is astropy-centric.\n",
    "# This format is known as Enhanced Character Separated Values\n",
    "# It handles units and descriptions in data table.\n",
    "\n",
    "# planets.csv is in the more common Common Separated Value format\n",
    "# It allows only a simple label header, along with data values\n",
    "\n",
    "print(sullivan.info)\n",
    "print(nexsci.info)"
   ]
  },
  {
   "cell_type": "markdown",
   "metadata": {},
   "source": [
    "In this case both are Tables (analogous to the Pandas DataFrame) and the Sullivan table has all these nice units and information attached. Can we make both of them have units?\n",
    "\n",
    "Let's try another way"
   ]
  },
  {
   "cell_type": "code",
   "execution_count": null,
   "metadata": {
    "collapsed": true
   },
   "outputs": [],
   "source": [
    "sullivan = QTable.read('sullivan.txt', format='ascii')\n",
    "\n",
    "nexsci = QTable.read('planets.csv', names=['name', 'Rp', 'Teq'])\n",
    "\n",
    "# We can change the names and set the units this way!\n",
    "nexsci['Rp'].unit=u.R_earth\n",
    "nexsci['Teq'].unit=u.K\n",
    "\n",
    "print(sullivan.info)\n",
    "print(nexsci.info)"
   ]
  },
  {
   "cell_type": "markdown",
   "metadata": {},
   "source": [
    "That's kind of nice, isn't it? Now instead of each column being a `Column` all the ones with units are `Quantity` objects which have the attached unit information!\n",
    "\n",
    "But wait what's up with earthRad vs Rgeo for the planet's radius? These aren't the same unit! We're going to have to fix this!"
   ]
  },
  {
   "cell_type": "code",
   "execution_count": null,
   "metadata": {
    "collapsed": true
   },
   "outputs": [],
   "source": [
    "print(sullivan['Rp'].unit, u.R_earth)\n",
    "sullivan['Rp'].unit = u.R_earth"
   ]
  },
  {
   "cell_type": "markdown",
   "metadata": {},
   "source": [
    "This doesn't work because the unit function has no ability to set the value. It's a protected property of the unit class."
   ]
  },
  {
   "cell_type": "code",
   "execution_count": null,
   "metadata": {
    "collapsed": true
   },
   "outputs": [],
   "source": [
    "help(sullivan['Rp'].unit)"
   ]
  },
  {
   "cell_type": "markdown",
   "metadata": {},
   "source": [
    "The way around this is to reset the entire quantity object with the correct unit."
   ]
  },
  {
   "cell_type": "code",
   "execution_count": null,
   "metadata": {
    "collapsed": true
   },
   "outputs": [],
   "source": [
    "sullivan['Rp'] = sullivan['Rp'].value*u.R_earth\n",
    "print(sullivan.info)"
   ]
  },
  {
   "cell_type": "markdown",
   "metadata": {},
   "source": [
    "Pandas is another nice way of doing things and interfaces well with a lot of other python modules and packages (that I'm sure will come up in a few weeks), but it doesn't keep the units and in this case we would lose a lot of information.\n",
    "\n",
    "`In []: pd.read_csv('planets.csv', delimiter=',')`"
   ]
  },
  {
   "cell_type": "markdown",
   "metadata": {},
   "source": [
    "We want to know about the planet radii as a function of equilibrium temperature. What variables can we use to determine that?\n",
    "\n",
    "Equilibrium temperature, $T_{eq}$ is usually computed as follows:\n",
    "\\begin{equation}\n",
    "    T_{eq} = T_{eff} (1-A_B)^{1/4} \\sqrt{\\frac{R_*}{2a}},\n",
    "\\end{equation}\n",
    "where $T_{eff}$ is the effective temperature of the host star, $A_B$ is the Bond albedo of the planet, $R_*$ is the radius of the host star, and $a$ is orbital semi-major axis.\n",
    "\n",
    "We have $T_{eff}$ and $R_*$, we can assume an albedo ($A_B = 0$) but we need the semi-major axis. We can get the semi-major axis from understanding the inputs into some of the other provided variables, such as from the `planetary insolation in Earth units`, $S$.\n",
    "\n",
    "Solar insolation is computed thusly:\n",
    "\\begin{align}\n",
    "S_{\\oplus} &= \\frac{L_{\\odot}}{4 \\pi a_{\\oplus}^2} \\\\\n",
    "S_{\\oplus} &= \\frac{4 \\pi \\sigma  R_{\\odot}^2 T_{\\odot}^4}{4 \\pi a_{\\oplus}^2} \\\\\n",
    "S_{\\oplus} &= \\frac{\\sigma R_{\\odot}^2 T_{\\odot}^4}{a_{\\oplus}^2}\n",
    "\\end{align}\n",
    "\n",
    "Thus the semi-major axis can be found by inverting the above equation to:\n",
    "\\begin{align}\n",
    "a &= \\sqrt{\\frac{\\sigma R_*^2 T_{\\rm eff}^4}{S}} \\\\\n",
    "a &= R_* T_{\\rm eff}^2 \\sqrt{\\frac{\\sigma}{S}}\n",
    "\\end{align}\n",
    "\n",
    "This assumes that the planet is in a circular orbit."
   ]
  },
  {
   "cell_type": "code",
   "execution_count": null,
   "metadata": {
    "collapsed": true
   },
   "outputs": [],
   "source": [
    "A_B = 0\n",
    "S_earth = L_sun / (4 * np.pi * au**2)\n",
    "sma = sullivan['R*']*sullivan['Teff']**2* \\\n",
    "      np.sqrt(sigma_sb/(sullivan['S']*S_earth))\n",
    "print(\"Semi-Major Axis Units:  {}\".format(sma.unit))\n",
    "\n",
    "sma = sma.to(u.m)\n",
    "print(\"Semi-Major Axis Units:  {}\".format(sma.unit))\n",
    "        \n",
    "T_eq =  sullivan['Teff'] * (1-A_B)**0.25 * \\\n",
    "         np.sqrt(sullivan['R*']/(2*sma))\n",
    "print(\"Temperature Units:  {}\".format(T_eq.unit))\n",
    "\n",
    "T_eq = T_eq.to(u.K)\n",
    "print(\"Temperature Units:  {}\".format(T_eq.unit))"
   ]
  },
  {
   "cell_type": "markdown",
   "metadata": {},
   "source": [
    "## 3. Let's plot some data!"
   ]
  },
  {
   "cell_type": "code",
   "execution_count": null,
   "metadata": {
    "collapsed": true
   },
   "outputs": [],
   "source": [
    "# matplotlib.rc segue?\n",
    "help(plt.scatter)"
   ]
  },
  {
   "cell_type": "markdown",
   "metadata": {},
   "source": [
    "You could just \n",
    "```\n",
    "plt.scatter(T_eq, sullivan['Rp'])\n",
    "plt.scatter(nexsci['Teq'], nexsci['Rp'])\n",
    "plt.show()\n",
    "```\n",
    "But we should do it properly. The first thing you'll discover when you fail to make plot correctly, because it threw an `exception` somewhere or you forgot to `plt.show()`, is that when you fix it and run it, it'll give you a number of plots including all the ones that failed and the one that succeeded. To avoid that pitfall you should always:\n",
    "```\n",
    "plt.close() #to close prior show\n",
    "plt.plot()\n",
    "plt.show()  #to show what you plotted\n",
    "```\n",
    "Arguably we should also add `fig = plt.figure()` to get us started but it's not necessary.\n",
    "### 1. Let's give that plot some labels"
   ]
  },
  {
   "cell_type": "code",
   "execution_count": null,
   "metadata": {
    "collapsed": true
   },
   "outputs": [],
   "source": [
    "plt.close()\n",
    "plt.scatter(T_eq, sullivan['Rp'])\n",
    "plt.scatter(nexsci['Teq'], nexsci['Rp'])\n",
    "plt.ylabel('Planetary Radius ($R_\\oplus$)')\n",
    "plt.xlabel('Equilibrium Temperature (K)')\n",
    "plt.show()"
   ]
  },
  {
   "cell_type": "markdown",
   "metadata": {},
   "source": [
    "### 2. I can't see all the dots in that mess! \n",
    "Let's shrink them down and make them partly transparent."
   ]
  },
  {
   "cell_type": "code",
   "execution_count": null,
   "metadata": {
    "collapsed": true
   },
   "outputs": [],
   "source": [
    "plt.close()\n",
    "plt.scatter(T_eq, sullivan['Rp'], alpha=0.5, s=20, rasterized=True)\n",
    "plt.scatter(nexsci['Teq'], nexsci['Rp'], alpha=0.5, s=20, rasterized=True)\n",
    "plt.ylabel('Planetary Radius ($R_\\oplus$)')\n",
    "plt.xlabel('Equilibrium Temperature (K)')\n",
    "plt.show()"
   ]
  },
  {
   "cell_type": "markdown",
   "metadata": {},
   "source": [
    "### 3. There's a lot of empty plot space and which points are which?\n",
    "The edges are technically not transparent and so there's that weird darker bit around the circles let's get rid of that too."
   ]
  },
  {
   "cell_type": "code",
   "execution_count": null,
   "metadata": {
    "collapsed": true
   },
   "outputs": [],
   "source": [
    "plt.close()\n",
    "plt.scatter(T_eq, sullivan['Rp'], alpha=0.5, s=20, \n",
    "            rasterized=True, edgecolor='none', label='Sullivan+ (2015)')\n",
    "plt.scatter(nexsci['Teq'], nexsci['Rp'], alpha=0.5, s=20, \n",
    "            rasterized=True, edgecolor='none', label='NexSci Archive')\n",
    "plt.ylabel('Planetary Radius ($R_\\oplus$)')\n",
    "plt.xlabel('Equilibrium Temperature (K)')\n",
    "plt.yscale('log')  # NOTE: Log axes!\n",
    "plt.xscale('log')\n",
    "plt.legend(loc=2)\n",
    "plt.show()"
   ]
  },
  {
   "cell_type": "markdown",
   "metadata": {},
   "source": [
    "### 4. Not everyone thinks in earth Radii so let's add a second axis with Jupiter radii and change the colors\n",
    "To add a second axis you need to get a hold of the axes objects. There are several ways of doing this:\n",
    "\n",
    "1. `ax = plt.gca()`, where you grab them after creating your figure\n",
    "2. `fig, ax = plt.subplots()`, creating them with your figure\n",
    "\n",
    "We are going to go with option 2 because this also gives us the reference to the figure, `fig`, and gives us more control over the final figure for when we try to save it.\n",
    "\n",
    "Note: If you're doing multiple subplots (we are only doing 1 here) there are other ways that give you more control over where how your subplots look. Instead of `plt.subplots` there are `plt.subplot2grid` and `matplotlib.gridspec`. A good explanation of the differences can be found in the `gridspec` documentation https://matplotlib.org/users/gridspec.html"
   ]
  },
  {
   "cell_type": "code",
   "execution_count": null,
   "metadata": {
    "collapsed": true
   },
   "outputs": [],
   "source": [
    "plt.close()\n",
    "fig, ax = plt.subplots(figsize=(6,5))\n",
    "# Since we have the axes now we don't plt.scatter we ax.scatter\n",
    "ax.scatter(T_eq, sullivan['Rp'], s=20,\n",
    "                alpha=0.5, label='Sullivan+ (2015)', c=plt.cm.viridis(40), \n",
    "                rasterized=True, edgecolor='none')\n",
    "ax.scatter(nexsci['Teq'], nexsci['Rp'], label='NexSci Archive',\n",
    "                  alpha=.8, s=20, c=plt.cm.viridis(220), \n",
    "                  rasterized=True, edgecolor='none')\n",
    "\n",
    "ax2 = ax.twinx() # twinx to get a second y-axis. twiny to get a second x-axis\n",
    "\n",
    "# Since we are using the ax object we now usually use ax.set_...\n",
    "ax.set_yscale('log')\n",
    "ax.set_xscale('log')\n",
    "ax2.set_yscale('log')\n",
    "\n",
    "ax.set_ylim([5e-1, 6e1])\n",
    "\n",
    "# Since ax2 is based of ax we need to scale them to each other\n",
    "ax2.set_ylim(ax.get_ylim()*R_earth/R_jup)\n",
    "ax2.set_ylabel('Planetary Radius ($R_J$)')\n",
    "\n",
    "ax.set_ylabel('Planetary Radius ($R_\\oplus$)')\n",
    "ax.set_xlabel('Equilibrium Temperature (K)')\n",
    "ax.legend(fontsize='xx-small', loc=2)\n",
    "\n",
    "plt.tight_layout() # This is important for making sure your figure \n",
    "                   # is actually all going to fit within your figure size\n",
    "plt.show()"
   ]
  },
  {
   "cell_type": "markdown",
   "metadata": {},
   "source": [
    "Aside: Who is viridis and why did we `plt` his `cm`?\n",
    "\n",
    "Matplotlib has colormaps you can load in and whose values you can access by indexing the colors:\n",
    "\n",
    "`plt.cm.virdis(0-255)`\n",
    "\n",
    "Some plotting functions will also allow you to define the colormap you want to use with the `cmap` arg."
   ]
  },
  {
   "cell_type": "code",
   "execution_count": null,
   "metadata": {
    "collapsed": true
   },
   "outputs": [],
   "source": [
    "plt.close()\n",
    "gradient = np.linspace(0, 1, 256)\n",
    "gradient = np.vstack((gradient, gradient))\n",
    "plt.close()\n",
    "plt.imshow(gradient, aspect='auto', cmap=plt.get_cmap(\"viridis\"))\n",
    "plt.colorbar()\n",
    "plt.show()"
   ]
  },
  {
   "cell_type": "code",
   "execution_count": null,
   "metadata": {
    "collapsed": true
   },
   "outputs": [],
   "source": [
    "# You can also get fancy with style sheets...\n",
    "# https://matplotlib.org/2.1.1/gallery/style_sheets/style_sheets_reference.html\n",
    "with plt.style.context('fivethirtyeight'):\n",
    "    plt.close()\n",
    "    gradient = np.linspace(0, 1, 256)\n",
    "    gradient = np.vstack((gradient, gradient))\n",
    "    plt.close()\n",
    "    plt.imshow(gradient, aspect='auto', cmap=plt.get_cmap(\"viridis\"))\n",
    "    plt.colorbar()\n",
    "    plt.show()"
   ]
  },
  {
   "cell_type": "markdown",
   "metadata": {
    "collapsed": true
   },
   "source": [
    "## 4. SCIENCE!"
   ]
  },
  {
   "cell_type": "code",
   "execution_count": null,
   "metadata": {
    "collapsed": true
   },
   "outputs": [],
   "source": [
    "plt.close()\n",
    "fig, ax = plt.subplots(figsize=(6,5))\n",
    "ax.scatter(T_eq, sullivan['Rp'], s=20,\n",
    "                alpha=0.5, label='Sullivan+ (2015)', c=plt.cm.viridis(40), \n",
    "                rasterized=True, edgecolor='none')\n",
    "ax.scatter(nexsci['Teq'], nexsci['Rp'], label='NexSci Archive',\n",
    "                  alpha=.8, s=20, c=plt.cm.viridis(220), \n",
    "                  rasterized=True, edgecolor='none')\n",
    "ell = patches.Ellipse([800, 20], 1000, 10, fc='none', ec='r')\n",
    "plt.annotate(\"What's up with these?\", [750,20], [500,40], fontsize='x-small',\n",
    "             arrowprops=dict(facecolor='black', shrink=0.02, ec='r', fc='r',\n",
    "                             width=1, headwidth=7, headlength=7), color='r')\n",
    "ax.add_artist(ell)\n",
    "\n",
    "ax2 = ax.twinx()\n",
    "\n",
    "ax.set_yscale('log')\n",
    "ax.set_xscale('log')\n",
    "ax2.set_yscale('log')\n",
    "\n",
    "ax.set_ylim([5e-1, 6e1])\n",
    "\n",
    "ax2.set_ylim(ax.get_ylim()*R_earth/R_jup)\n",
    "ax2.set_ylabel('Planetary Radius ($R_J$)')\n",
    "\n",
    "ax.set_ylabel('Planetary Radius ($R_\\oplus$)')\n",
    "ax.set_xlabel('Equilibrium Temperature (K)')\n",
    "ax.legend(fontsize='xx-small', loc=2)\n",
    "\n",
    "plt.tight_layout()\n",
    "plt.show()"
   ]
  },
  {
   "cell_type": "markdown",
   "metadata": {},
   "source": [
    "Daniel Thorngren and I put our heads together and figured out that based on his models for inflation of Jupiter's these planets are well beyond the limit of inflation assuming zero albedo and planet-wide heat redistribution.\n",
    "\n",
    "Let's load up the result limit line."
   ]
  },
  {
   "cell_type": "code",
   "execution_count": null,
   "metadata": {
    "collapsed": true
   },
   "outputs": [],
   "source": [
    "inflation = ascii.read('inflation.csv', names=['T', 'eng', 'R'])"
   ]
  },
  {
   "cell_type": "code",
   "execution_count": null,
   "metadata": {
    "collapsed": true
   },
   "outputs": [],
   "source": [
    "plt.close()\n",
    "fig, ax = plt.subplots(figsize=(6,5))\n",
    "ax.scatter(T_eq, sullivan['Rp'], s=20,\n",
    "                alpha=0.5, label='Sullivan+ (2015)', c=plt.cm.viridis(40), \n",
    "                rasterized=True, edgecolor='none')\n",
    "ax.scatter(nexsci['Teq'], nexsci['Rp'], label='NexSci Archive',\n",
    "                  alpha=.8, s=20, c=plt.cm.viridis(220), rasterized=True, edgecolor='none')\n",
    "ax.plot(inflation['T'], (inflation['R'])*R_jup/R_earth, \n",
    "               color='black', label='Limit of Inflation')\n",
    "ax.set_ylabel('Planetary Radius ($R_\\oplus$)')\n",
    "\n",
    "\n",
    "ax2 = ax.twinx()\n",
    "\n",
    "ax.set_yscale('log')\n",
    "ax.set_xscale('log')\n",
    "ax2.set_yscale('log')\n",
    "\n",
    "ax.set_ylim([5e-1, 6e1])\n",
    "\n",
    "ax2.set_ylim(ax.get_ylim()*R_earth/R_jup)\n",
    "ax2.set_ylabel('Planetary Radius ($R_J$)')\n",
    "\n",
    "ax.set_ylabel('Planetary Radius ($R_\\oplus$)')\n",
    "ax.set_xlabel('Equilibrium Temperature (K)')\n",
    "ax.legend(fontsize='xx-small', loc=2)\n",
    "\n",
    "ax.set_rasterized(True)\n",
    "\n",
    "plt.tight_layout()\n",
    "# Now save\n",
    "# plt.savefig('TessPaper/pip.pdf', format='pdf')\n",
    "plt.show()"
   ]
  },
  {
   "cell_type": "markdown",
   "metadata": {},
   "source": [
    "# 5. Write out our results\n",
    "Let's print out a table of the planets that are above the line!"
   ]
  },
  {
   "cell_type": "code",
   "execution_count": null,
   "metadata": {
    "collapsed": true
   },
   "outputs": [],
   "source": [
    "#Interpolate the corresponding point on the line\n",
    "inflated = []\n",
    "planets = np.nonzero(sullivan['Rp'] > 10*u.R_earth)[0]\n",
    "for planet in planets:\n",
    "    prad = np.interp(T_eq[planet].value, inflation['T'], (inflation['R'])*R_jup/R_earth)\n",
    "    if sullivan['Rp'][planet] > prad*u.R_earth:\n",
    "        #this planet is inflated\n",
    "        inflated.append(planet)\n",
    "#inflated is now a list of indices for the inflated planets\n",
    "\n",
    "plt.close()\n",
    "plt.scatter(T_eq[inflated], sullivan['Rp'][inflated], label='Inflated Planets')\n",
    "plt.plot(inflation['T'], inflation['R']*R_jup/R_earth, c='k', label='Inflation Limit')\n",
    "plt.ylabel('Planet Radius ($R_\\oplus$)')\n",
    "plt.xlabel('Equilibrium Temperature (K)')\n",
    "plt.show()\n",
    "\n",
    "ascii.write([T_eq[inflated], sullivan['Rp'][inflated]], \n",
    "            format='aastex', names=['eq. T', '$R_p$'], \n",
    "            output='inflatedplanet.txt', formats={'eq. T':'%.i', '$R_p$':'%.3f'}, \n",
    "            overwrite=True, col_align='RR', \\\n",
    "            latexdict={'caption':'Inflated plaents in the Sullivan et al. (2015) sample.'})"
   ]
  },
  {
   "cell_type": "code",
   "execution_count": null,
   "metadata": {
    "collapsed": true,
    "scrolled": false
   },
   "outputs": [],
   "source": [
    "# DO I STILL HAVE TIME? WHAT ELSE DO I WANT TO COVER?\n",
    "bins = np.linspace(0,35)\n",
    "\n",
    "# Note the use of the underscore!\n",
    "n, bins, _ = plt.hist(sullivan['Rp'], bins=bins, rwidth=0.8, \n",
    "                            alpha=0.5, log=True, color=plt.cm.viridis(40), \n",
    "                            label='Sullivan+ (2015)')\n",
    "rn, rbins, rpatches = plt.hist(nexsci['Rp'], bins=bins, rwidth=0.8,\n",
    "                               alpha=0.5, color=plt.cm.viridis(220), \n",
    "                               label='NexSci Archive')\n",
    "plt.ylabel('Number of Planets')\n",
    "plt.xlabel('Planetary Radius ($R_\\oplus$)')\n",
    "plt.show()"
   ]
  },
  {
   "cell_type": "code",
   "execution_count": null,
   "metadata": {
    "collapsed": true
   },
   "outputs": [],
   "source": []
  },
  {
   "cell_type": "code",
   "execution_count": null,
   "metadata": {
    "collapsed": true
   },
   "outputs": [],
   "source": []
  }
 ],
 "metadata": {
  "kernelspec": {
   "display_name": "Python 3",
   "language": "python",
   "name": "python3"
  },
  "language_info": {
   "codemirror_mode": {
    "name": "ipython",
    "version": 3
   },
   "file_extension": ".py",
   "mimetype": "text/x-python",
   "name": "python",
   "nbconvert_exporter": "python",
   "pygments_lexer": "ipython3",
   "version": "3.6.1"
  }
 },
 "nbformat": 4,
 "nbformat_minor": 2
}
