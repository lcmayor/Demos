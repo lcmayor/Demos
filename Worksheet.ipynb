{
 "cells": [
  {
   "cell_type": "markdown",
   "metadata": {},
   "source": [
    "# From Data to Paper: Everything you need to go from random data to a LaTeX worthy table and figure\n",
    "\n",
    "In this python lesson we'll be working within the confines of this Jupyter Notebook to download data from the NASA Exoplanet Archive, plot it in various ways and reproduce the results of this research note: http://iopscience.iop.org/article/10.3847/2515-5172/aac728\n",
    "\n",
    "If at any point you have questions or would like to see how to do something in particular please speak up or feel free to email me: laura.mayorga@cfa.harvard.edu\n",
    "\n",
    "## 1. We're going to need some stuff"
   ]
  },
  {
   "cell_type": "code",
   "execution_count": 1,
   "metadata": {
    "collapsed": true
   },
   "outputs": [],
   "source": [
    "# This will grant us access to many array handling functions \n",
    "# so that we can do math and is almost always loaded\n",
    "import numpy as np\n",
    "\n",
    "# We wanna be able to plot stuff!\n",
    "# We've chosen to rename the module to save us time and make the code clear\n",
    "import matplotlib\n",
    "import matplotlib.pyplot as plt\n",
    "import matplotlib.patches as patches\n",
    "\n",
    "# We need to be able to read and write stuff!\n",
    "from astropy.table import QTable\n",
    "from astropy.io import ascii\n",
    "import pandas as pd\n",
    "\n",
    "# We'll be doing some computations and these constants are super useful\n",
    "from astropy.constants import sigma_sb, R_sun, R_earth, R_jup, \\\n",
    "                        L_sun, au, M_sun, M_jup, M_earth, G\n",
    "    \n",
    "# For a non-astro-centric unit conversion library, see https://pypi.org/project/unyt\n",
    "# There's also pint\n",
    "from astropy import units as u\n",
    "\n",
    "# Download files here: https://tinyurl.com/laura-python"
   ]
  },
  {
   "cell_type": "markdown",
   "metadata": {},
   "source": [
    "## Did you know you can call command line stuff from within python?"
   ]
  },
  {
   "cell_type": "code",
   "execution_count": 2,
   "metadata": {},
   "outputs": [
    {
     "name": "stdout",
     "output_type": "stream",
     "text": [
      "Queries worked successfully\n"
     ]
    }
   ],
   "source": [
    "# These are the magic queries to get you the files you need!\n",
    "import subprocess as subp\n",
    "\n",
    "# This will download planets.csv\n",
    "command = ['wget', 'https://exoplanetarchive.ipac.caltech.edu/cgi-bin/'+\\\n",
    "            'nstedAPI/nph-nstedAPI?table=exoplanets'+\\\n",
    "            '&select=pl_hostname,pl_rade,pl_eqt'+\\\n",
    "            '&where=pl_rade>0 and pl_eqt>0'+\\\n",
    "            '&format=csv', '-O', 'planets.csv']\n",
    "neastat = subp.call(command)\n",
    "\n",
    "# This will download sullivan.txt\n",
    "command = ['wget', 'http://iopscience.iop.org/0004-637X/809/1/77/suppdata/apj516470t6_mrt.txt',\n",
    "          '-O', 'sullivan.txt']\n",
    "sullystat = subp.call(command)\n",
    "\n",
    "# This will download inflation.csv\n",
    "command = ['wget', 'https://www.dropbox.com/s/i0usuh5xtwk5pfg/jupMax.txt?dl=0',\n",
    "           '-O', 'inflation.csv']\n",
    "infstat=subp.call(command)\n",
    "\n",
    "# This checks if the commands worked!\n",
    "if neastat!=0 or sullystat!= 0 or infstat != 0:\n",
    "    print('SOMETHING BROKE ASK FOR HELP!!')\n",
    "else:\n",
    "    print('Queries worked successfully')"
   ]
  },
  {
   "cell_type": "markdown",
   "metadata": {},
   "source": [
    "## 2. Let's get some data!\n",
    "There are multiple ways of doing this so lets try a couple and see why some might be better than others in this case."
   ]
  },
  {
   "cell_type": "code",
   "execution_count": 3,
   "metadata": {},
   "outputs": [
    {
     "name": "stdout",
     "output_type": "stream",
     "text": [
      "<Table length=1984>\n",
      "  name   dtype   unit                  description                 \n",
      "------- ------- ------ --------------------------------------------\n",
      "  RAdeg float64    deg   Right Ascension in decimal degrees (J2000)\n",
      "  DEdeg float64    deg       Declination in decimal degrees (J2000)\n",
      "     Rp float64   Rgeo              Planetary radius in Earth units\n",
      "    Per float64      d                                       Period\n",
      "      S float64                 Planetary insolation in Earth units\n",
      "      K float64  m / s                Radial-velocity semiamplitude\n",
      "     R* float64 solRad                               Stellar radius\n",
      "   Teff float64      K                Stellar effective temperature\n",
      "   Vmag float64    mag                    Apparent V band magnitude\n",
      "   Imag float64    mag                 Apparent I_C_ band magnitude\n",
      "   Jmag float64    mag                    Apparent J band magnitude\n",
      "  Ksmag float64    mag                 Apparent K_s_ band magnitude\n",
      "     DM float64    mag                             Distance Modulus\n",
      "    Dil float64        Dilution parameter for all detected eclipses\n",
      "logsigV float64    [-]  Log standard deviation in relative flux (1)\n",
      "    SNR float64                               Signal-to-Noise Ratio\n",
      "   Mult   int64           Number of other planets orbiting the star\n",
      "\n",
      "<Table length=557>\n",
      "    name     dtype \n",
      "----------- -------\n",
      "pl_hostname   str27\n",
      "    pl_rade float64\n",
      "     pl_eqt   int64\n",
      "\n"
     ]
    }
   ],
   "source": [
    "with open('sullivan.txt', 'r') as f:\n",
    "    sullivan = ascii.read(f.readlines())\n",
    "with open('planets.csv', 'r') as f:\n",
    "    nexsci = ascii.read(f.readlines())\n",
    "\n",
    "inflation = ascii.read('inflation.csv', names=['T', 'eng', 'R'])\n",
    "    \n",
    "# Now you should open the files and look at them yourself.\n",
    "# ascii.read handles the header of sullivan.txt, and is astropy-centric.\n",
    "# This format is known as Enhanced Character Separated Values\n",
    "# It handles units and descriptions in data table.\n",
    "\n",
    "# planets.csv is in the more common Common Separated Value format\n",
    "# It allows only a simple label header, along with data values\n",
    "\n",
    "print(sullivan.info)\n",
    "print(nexsci.info)"
   ]
  },
  {
   "cell_type": "markdown",
   "metadata": {},
   "source": [
    "In this case both are Tables (analogous to the Pandas DataFrame) and the Sullivan table has all these nice units and information attached. Can we make both of them have units?\n",
    "\n",
    "Let's try another way"
   ]
  },
  {
   "cell_type": "code",
   "execution_count": 4,
   "metadata": {},
   "outputs": [
    {
     "name": "stdout",
     "output_type": "stream",
     "text": [
      "<QTable length=1984>\n",
      "  name   dtype   unit                  description                   class  \n",
      "------- ------- ------ -------------------------------------------- --------\n",
      "  RAdeg float64    deg   Right Ascension in decimal degrees (J2000) Quantity\n",
      "  DEdeg float64    deg       Declination in decimal degrees (J2000) Quantity\n",
      "     Rp float64   Rgeo              Planetary radius in Earth units Quantity\n",
      "    Per float64      d                                       Period Quantity\n",
      "      S float64                 Planetary insolation in Earth units   Column\n",
      "      K float64  m / s                Radial-velocity semiamplitude Quantity\n",
      "     R* float64 solRad                               Stellar radius Quantity\n",
      "   Teff float64      K                Stellar effective temperature Quantity\n",
      "   Vmag float64    mag                    Apparent V band magnitude Quantity\n",
      "   Imag float64    mag                 Apparent I_C_ band magnitude Quantity\n",
      "   Jmag float64    mag                    Apparent J band magnitude Quantity\n",
      "  Ksmag float64    mag                 Apparent K_s_ band magnitude Quantity\n",
      "     DM float64    mag                             Distance Modulus Quantity\n",
      "    Dil float64        Dilution parameter for all detected eclipses   Column\n",
      "logsigV float64    [-]  Log standard deviation in relative flux (1) Quantity\n",
      "    SNR float64                               Signal-to-Noise Ratio   Column\n",
      "   Mult   int64           Number of other planets orbiting the star   Column\n",
      "\n",
      "<QTable length=557>\n",
      "name  dtype    unit    class  \n",
      "---- ------- -------- --------\n",
      "name   str27            Column\n",
      "  Rp float64 earthRad Quantity\n",
      " Teq float64        K Quantity\n",
      "\n"
     ]
    }
   ],
   "source": [
    "sullivan = QTable.read('sullivan.txt', format='ascii')\n",
    "\n",
    "nexsci = QTable.read('planets.csv', names=['name', 'Rp', 'Teq'])\n",
    "\n",
    "# We can change the names and set the units this way!\n",
    "nexsci['Rp'].unit=u.R_earth\n",
    "nexsci['Teq'].unit=u.K\n",
    "\n",
    "print(sullivan.info)\n",
    "print(nexsci.info)"
   ]
  },
  {
   "cell_type": "markdown",
   "metadata": {},
   "source": [
    "That's kind of nice, isn't it? Now instead of each column being a `Column` all the ones with units are `Quantity` objects which have the attached unit information!"
   ]
  },
  {
   "cell_type": "markdown",
   "metadata": {},
   "source": [
    "Pandas is another nice way of doing things and interfaces well with a lot of other python modules and packages (that I'm sure will come up in a few weeks), but it doesn't keep the units and in this case we would lose a lot of information.\n",
    "\n",
    "`In []: pd.read_csv('planets.csv', delimiter=',')`"
   ]
  },
  {
   "cell_type": "markdown",
   "metadata": {},
   "source": [
    "We want to know about the planet radii as a function of equilibrium temperature. What variables can we use to determine that?\n",
    "\n",
    "Equilibrium temperature, $T_{eq}$ is usually computed as follows:\n",
    "\\begin{equation}\n",
    "    T_{eq} = T_{eff} (1-A_B)^{1/4} \\sqrt{\\frac{R_*}{2a}},\n",
    "\\end{equation}\n",
    "where $T_{eff}$ is the effective temperature of the host star, $A_B$ is the Bond albedo of the planet, $R_*$ is the radius of the host star, and $a$ is orbital semi-major axis.\n",
    "\n",
    "We have $T_{eff}$ and $R_*$, we can assume an albedo ($A_B = 0$) but we need the semi-major axis. We can get the semi-major axis from understanding the inputs into some of the other provided variables, such as from the `planetary insolation in Earth units`, $S$.\n",
    "\n",
    "Solar insolation is computed thusly:\n",
    "\\begin{align}\n",
    "S_{\\oplus} &= \\frac{L_{\\odot}}{4 \\pi a_{\\oplus}^2} \\\\\n",
    "S_{\\oplus} &= \\frac{4 \\pi \\sigma  R_{\\odot}^2 T_{\\odot}^4}{4 \\pi a_{\\oplus}^2} \\\\\n",
    "S_{\\oplus} &= \\frac{\\sigma R_{\\odot}^2 T_{\\odot}^4}{a_{\\oplus}^2}\n",
    "\\end{align}\n",
    "\n",
    "Thus the semi-major axis can be found by inverting the above equation to:\n",
    "\\begin{align}\n",
    "a &= \\sqrt{\\frac{\\sigma R_*^2 T_{\\rm eff}^4}{S}} \\\\\n",
    "a &= R_* T_{\\rm eff}^2 \\sqrt{\\frac{\\sigma}{S}}\n",
    "\\end{align}\n",
    "\n",
    "This assumes that the planet is in a circular orbit."
   ]
  },
  {
   "cell_type": "code",
   "execution_count": 5,
   "metadata": {},
   "outputs": [],
   "source": [
    "# Your solution here\n",
    "#\n",
    "#T_eq = "
   ]
  },
  {
   "cell_type": "markdown",
   "metadata": {},
   "source": [
    "## 3. Let's plot some data!\n",
    "\n",
    "https://matplotlib.org/2.1.1/gallery/index.html\n",
    "\n",
    "The first thing you'll discover when you fail to make plot correctly, because it threw an `exception` somewhere or you forgot to `plt.show()`, is that when you fix it and run it, it'll give you a number of plots including all the ones that failed and the one that succeeded. To avoid that pitfall you should always use `plt.close`.\n",
    "```\n",
    "plt.close() #to close prior show\n",
    "plt.plot()\n",
    "plt.show()  #to show what you plotted\n",
    "```\n",
    "\n",
    "For more complicated plots where you'll be wanting to add axes we need the actual object reference.\n",
    "\n",
    "`fig = plt.figure()`\n",
    "\n",
    "But this doesn't include the axes object right away, so the simplest and to get you started is:\n",
    "```\n",
    "plt.close()\n",
    "fig, ax = plt.subplots(figsize=(6,5))\n",
    "plt.show()\n",
    "```"
   ]
  },
  {
   "cell_type": "raw",
   "metadata": {},
   "source": [
    "plt.close()\n",
    "fig, ax = plt.subplots(figsize=(6,5))\n",
    "ax.scatter(T_eq, sullivan['Rp'])\n",
    "ax.scatter(nexsci['Teq'], nexsci['Rp'])\n",
    "ax.plot(inflation['T'], (inflation['R'])*R_jup/R_earth)\n",
    "plt.show()"
   ]
  },
  {
   "cell_type": "code",
   "execution_count": null,
   "metadata": {
    "collapsed": true
   },
   "outputs": [],
   "source": []
  }
 ],
 "metadata": {
  "kernelspec": {
   "display_name": "Python 3",
   "language": "python",
   "name": "python3"
  },
  "language_info": {
   "codemirror_mode": {
    "name": "ipython",
    "version": 3
   },
   "file_extension": ".py",
   "mimetype": "text/x-python",
   "name": "python",
   "nbconvert_exporter": "python",
   "pygments_lexer": "ipython3",
   "version": "3.6.7"
  }
 },
 "nbformat": 4,
 "nbformat_minor": 2
}
